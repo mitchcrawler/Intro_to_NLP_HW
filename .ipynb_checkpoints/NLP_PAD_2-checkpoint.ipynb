{
 "cells": [
  {
   "cell_type": "code",
   "execution_count": 1,
   "metadata": {},
   "outputs": [],
   "source": [
    "import pandas as pd\n",
    "import numpy as np\n",
    "import matplotlib.pyplot as plt\n",
    "import seaborn as sns\n",
    "import matplotlib.gridspec as gridspec\n",
    "import gc\n",
    "from sklearn.feature_extraction.text import CountVectorizer,TfidfVectorizer\n",
    "from sklearn.pipeline import Pipeline\n",
    "from sklearn.feature_extraction.text import TfidfTransformer\n",
    "from sklearn.naive_bayes import MultinomialNB\n",
    "from sklearn.model_selection import StratifiedKFold\n",
    "from sklearn.decomposition import TruncatedSVD\n",
    "from sklearn.metrics import log_loss,confusion_matrix,classification_report,roc_curve,auc\n",
    "import string\n",
    "import nltk\n",
    "from nltk.corpus import stopwords\n",
    "from nltk.tokenize import word_tokenize\n",
    "from scipy import sparse\n",
    "%matplotlib inline\n",
    "seed = 2390"
   ]
  },
  {
   "cell_type": "code",
   "execution_count": 2,
   "metadata": {},
   "outputs": [
    {
     "name": "stdout",
     "output_type": "stream",
     "text": [
      "Enter MySQL passwd for jovyan········\n"
     ]
    }
   ],
   "source": [
    "import pymysql\n",
    "import pandas as pd\n",
    "import getpass\n",
    "import re\n",
    "\n",
    "conn = pymysql.connect(host=\"mysql\",\n",
    "                       port=3306,user=\"jovyan\",\n",
    "                       passwd=getpass.getpass(\"Enter MySQL passwd for jovyan\"),db='mimic2')\n",
    "cursor = conn.cursor()"
   ]
  },
  {
   "cell_type": "code",
   "execution_count": 3,
   "metadata": {},
   "outputs": [
    {
     "data": {
      "text/plain": [
       "(171927, 1)"
      ]
     },
     "execution_count": 3,
     "metadata": {},
     "output_type": "execute_result"
    }
   ],
   "source": [
    "mimic = pd.read_sql(\"\"\"select text from noteevents\"\"\",conn)\n",
    "mimic.shape"
   ]
  },
  {
   "cell_type": "code",
   "execution_count": 30,
   "metadata": {},
   "outputs": [
    {
     "data": {
      "text/html": [
       "<div>\n",
       "<table border=\"1\" class=\"dataframe\">\n",
       "  <thead>\n",
       "    <tr style=\"text-align: right;\">\n",
       "      <th></th>\n",
       "      <th>subject_id</th>\n",
       "      <th>code</th>\n",
       "      <th>text</th>\n",
       "      <th>abi</th>\n",
       "    </tr>\n",
       "  </thead>\n",
       "  <tbody>\n",
       "    <tr>\n",
       "      <th>0</th>\n",
       "      <td>6677</td>\n",
       "      <td>443.9</td>\n",
       "      <td>\\n\\n\\n     DATE: [**3318-5-26**] 9:30 AM\\n    ...</td>\n",
       "      <td>0</td>\n",
       "    </tr>\n",
       "    <tr>\n",
       "      <th>1</th>\n",
       "      <td>6677</td>\n",
       "      <td>443.9</td>\n",
       "      <td>\\n\\n\\n     DATE: [**3318-5-26**] 9:30 AM\\n    ...</td>\n",
       "      <td>0</td>\n",
       "    </tr>\n",
       "    <tr>\n",
       "      <th>2</th>\n",
       "      <td>18600</td>\n",
       "      <td>443.9</td>\n",
       "      <td>\\n\\n\\n     DATE: [**2840-12-31**] 12:32 PM\\n  ...</td>\n",
       "      <td>0</td>\n",
       "    </tr>\n",
       "    <tr>\n",
       "      <th>3</th>\n",
       "      <td>21223</td>\n",
       "      <td>443.9</td>\n",
       "      <td>\\n\\n\\n     DATE: [**3243-9-9**] 10:54 AM\\n    ...</td>\n",
       "      <td>0</td>\n",
       "    </tr>\n",
       "    <tr>\n",
       "      <th>4</th>\n",
       "      <td>25879</td>\n",
       "      <td>443.9</td>\n",
       "      <td>\\n\\n\\n     DATE: [**3357-2-21**] 8:26 AM\\n    ...</td>\n",
       "      <td>0</td>\n",
       "    </tr>\n",
       "    <tr>\n",
       "      <th>5</th>\n",
       "      <td>25879</td>\n",
       "      <td>443.9</td>\n",
       "      <td>\\n\\n\\n     DATE: [**3357-2-21**] 8:26 AM\\n    ...</td>\n",
       "      <td>0</td>\n",
       "    </tr>\n",
       "  </tbody>\n",
       "</table>\n",
       "</div>"
      ],
      "text/plain": [
       "   subject_id   code                                               text abi\n",
       "0        6677  443.9  \\n\\n\\n     DATE: [**3318-5-26**] 9:30 AM\\n    ...   0\n",
       "1        6677  443.9  \\n\\n\\n     DATE: [**3318-5-26**] 9:30 AM\\n    ...   0\n",
       "2       18600  443.9  \\n\\n\\n     DATE: [**2840-12-31**] 12:32 PM\\n  ...   0\n",
       "3       21223  443.9  \\n\\n\\n     DATE: [**3243-9-9**] 10:54 AM\\n    ...   0\n",
       "4       25879  443.9  \\n\\n\\n     DATE: [**3357-2-21**] 8:26 AM\\n    ...   0\n",
       "5       25879  443.9  \\n\\n\\n     DATE: [**3357-2-21**] 8:26 AM\\n    ...   0"
      ]
     },
     "execution_count": 30,
     "metadata": {},
     "output_type": "execute_result"
    }
   ],
   "source": [
    "abi = pd.read_sql(\"\"\"select c.subject_id, code, text \n",
    "                    from icd9 c, noteevents n\n",
    "                    where c.subject_id = n.subject_id and code like '443%' \n",
    "                    and text like '%ankle%index%';\"\"\",conn)\n",
    "abi = abi.assign(abi ='0')\n",
    "pad = pd.read_sql(\"\"\"select c.subject_id, code, text \n",
    "                    from icd9 c, noteevents n\n",
    "                    where c.subject_id = n.subject_id and code like '443%' \n",
    "                    and text like '%peripheral vascular%';\"\"\",conn)\n",
    "pad = pad.assign(pad='0')\n",
    "abi"
   ]
  },
  {
   "cell_type": "code",
   "execution_count": 5,
   "metadata": {},
   "outputs": [
    {
     "name": "stdout",
     "output_type": "stream",
     "text": [
      "0 \n",
      "\n",
      "\n",
      "     DATE: [**3318-5-26**] 9:30 AM\n",
      "     ART DUP EXT LO UNI;F/U; CAROTID SERIES COMPLETE                 Clip # [**Clip Number (Radiology) 7108**]\n",
      "     ART EXT (REST ONLY)\n",
      "     Reason: LEFT CAROTID BRUIT, PVD, GRAFT SURVEILLANCE\n",
      "     Admitting Diagnosis: NONHEALING FOOT ULCER\n",
      "     ______________________________________________________________________________\n",
      "     UNDERLYING MEDICAL CONDITION:\n",
      "      64 year old man with nonhealing foot ulcers/p left fem-at,[**Hospital Unit Name 3638**]-dp                \n",
      "     REASON FOR THIS EXAMINATION:\n",
      "      ? graft patency                                                                 \n",
      "     ______________________________________________________________________________\n",
      "                                     FINAL REPORT\n",
      "     CAROTID SERIES COMPLETE.\n",
      "     \n",
      "     REASON:  Right carotid bruits.\n",
      "     \n",
      "     FINDINGS:  Duplex evaluation was performed of bilateral carotid arteries. \n",
      "     There is minimal plaque noted in the carotid arteries bilaterally.\n",
      "     \n",
      "     On the right, peak systolic velocities in cm/sec are 91, 138, and 137 in the\n",
      "     ICA, CCA, and ECA respectively.  This is consistent with less than 40%\n",
      "     stenosis.\n",
      "     \n",
      "     On the left, peak velocities are 76, 91, and 130 in the ICA, CCA, and ECA\n",
      "     respectively.  This is consistent with less than 40% stenosis.\n",
      "     \n",
      "     There is antegrade vertebral artery flow bilaterally.\n",
      "     \n",
      "     IMPRESSION:  Bilateral less than 40% carotid stenosis.\n",
      "     \n",
      "     LOWER EXTREMITY ARTERIAL DUPLEX.\n",
      "     \n",
      "     REASON:  Status post left femoral to anterior tibial bypass and left popliteal\n",
      "     to dorsalis pedis bypass.\n",
      "     \n",
      "     FINDINGS:  Duplex evaluation was performed in left lower extremity bypass. \n",
      "     The graft could be identified in the thigh where the graft is patent, however,\n",
      "     in the distal thigh, the graft becomes aneurysmal and below this, no flow\n",
      "     could be identified.  The diameter of the graft in the distal thigh measure\n",
      "     2.9 cm.  Peak velocities in cm/sec were 124 in the native common femoral, 146\n",
      "     at the femoral anastomosis and within the thigh portion of the graft,\n",
      "     velocities range from 59-65 cm/sec.  The dorsalis pedis artery was patent with\n",
      "     a peak velocity of 24 cm/sec.\n",
      "     \n",
      "     IMPRESSION:  Patent thigh portion of the bypass graft with aneurysmal\n",
      "     degeneration of the graft above the knee measuring 2.9 cm.  The graft below\n",
      "     this could not be visualized.  However, the dorsalis pedis is patent.\n",
      "     \n",
      "     Lower extremity noninvasives were performed, which revealed monophasic\n",
      "     dorsalis pedis and posterior tibial waveforms and an ankle brachial index of\n",
      "     0.57.  Pulse volume recordings are essentially normal in the thigh.  There is\n",
      "     dampening at the level of the calf with relative to the thigh, but there is\n",
      "     still a significant amount of deflection noted even at the metatarsal level.\n",
      "                                                                 (Over)\n",
      "\n",
      "     DATE: [**3318-5-26**] 9:30 AM\n",
      "     ART DUP EXT LO UNI;F/U; CAROTID SERIES COMPLETE                 Clip # [**Clip Number (Radiology) 7108**]\n",
      "     ART EXT (REST ONLY)\n",
      "     Reason: LEFT CAROTID BRUIT, PVD, GRAFT SURVEILLANCE\n",
      "     Admitting Diagnosis: NONHEALING FOOT ULCER\n",
      "     ______________________________________________________________________________\n",
      "                                     FINAL REPORT\n",
      "     (Cont)\n",
      "     \n",
      "     IMPRESSION:  Moderate left lower extremity arterial occlusive disease, likely\n",
      "     location SFA and tibial.\n",
      "                                                                           \n",
      "\n",
      "\n",
      "\n",
      "\n",
      "1 \n",
      "\n",
      "\n",
      "     DATE: [**3318-5-26**] 9:30 AM\n",
      "     ART DUP EXT LO UNI;F/U; CAROTID SERIES COMPLETE                 Clip # [**Clip Number (Radiology) 7108**]\n",
      "     ART EXT (REST ONLY)\n",
      "     Reason: LEFT CAROTID BRUIT, PVD, GRAFT SURVEILLANCE\n",
      "     Admitting Diagnosis: NONHEALING FOOT ULCER\n",
      "     ______________________________________________________________________________\n",
      "     UNDERLYING MEDICAL CONDITION:\n",
      "      64 year old man with nonhealing foot ulcers/p left fem-at,[**Hospital Unit Name 3638**]-dp                \n",
      "     REASON FOR THIS EXAMINATION:\n",
      "      ? graft patency                                                                 \n",
      "     ______________________________________________________________________________\n",
      "                                     FINAL REPORT\n",
      "     CAROTID SERIES COMPLETE.\n",
      "     \n",
      "     REASON:  Right carotid bruits.\n",
      "     \n",
      "     FINDINGS:  Duplex evaluation was performed of bilateral carotid arteries. \n",
      "     There is minimal plaque noted in the carotid arteries bilaterally.\n",
      "     \n",
      "     On the right, peak systolic velocities in cm/sec are 91, 138, and 137 in the\n",
      "     ICA, CCA, and ECA respectively.  This is consistent with less than 40%\n",
      "     stenosis.\n",
      "     \n",
      "     On the left, peak velocities are 76, 91, and 130 in the ICA, CCA, and ECA\n",
      "     respectively.  This is consistent with less than 40% stenosis.\n",
      "     \n",
      "     There is antegrade vertebral artery flow bilaterally.\n",
      "     \n",
      "     IMPRESSION:  Bilateral less than 40% carotid stenosis.\n",
      "     \n",
      "     LOWER EXTREMITY ARTERIAL DUPLEX.\n",
      "     \n",
      "     REASON:  Status post left femoral to anterior tibial bypass and left popliteal\n",
      "     to dorsalis pedis bypass.\n",
      "     \n",
      "     FINDINGS:  Duplex evaluation was performed in left lower extremity bypass. \n",
      "     The graft could be identified in the thigh where the graft is patent, however,\n",
      "     in the distal thigh, the graft becomes aneurysmal and below this, no flow\n",
      "     could be identified.  The diameter of the graft in the distal thigh measure\n",
      "     2.9 cm.  Peak velocities in cm/sec were 124 in the native common femoral, 146\n",
      "     at the femoral anastomosis and within the thigh portion of the graft,\n",
      "     velocities range from 59-65 cm/sec.  The dorsalis pedis artery was patent with\n",
      "     a peak velocity of 24 cm/sec.\n",
      "     \n",
      "     IMPRESSION:  Patent thigh portion of the bypass graft with aneurysmal\n",
      "     degeneration of the graft above the knee measuring 2.9 cm.  The graft below\n",
      "     this could not be visualized.  However, the dorsalis pedis is patent.\n",
      "     \n",
      "     Lower extremity noninvasives were performed, which revealed monophasic\n",
      "     dorsalis pedis and posterior tibial waveforms and an ankle brachial index of\n",
      "     0.57.  Pulse volume recordings are essentially normal in the thigh.  There is\n",
      "     dampening at the level of the calf with relative to the thigh, but there is\n",
      "     still a significant amount of deflection noted even at the metatarsal level.\n",
      "                                                                 (Over)\n",
      "\n",
      "     DATE: [**3318-5-26**] 9:30 AM\n",
      "     ART DUP EXT LO UNI;F/U; CAROTID SERIES COMPLETE                 Clip # [**Clip Number (Radiology) 7108**]\n",
      "     ART EXT (REST ONLY)\n",
      "     Reason: LEFT CAROTID BRUIT, PVD, GRAFT SURVEILLANCE\n",
      "     Admitting Diagnosis: NONHEALING FOOT ULCER\n",
      "     ______________________________________________________________________________\n",
      "                                     FINAL REPORT\n",
      "     (Cont)\n",
      "     \n",
      "     IMPRESSION:  Moderate left lower extremity arterial occlusive disease, likely\n",
      "     location SFA and tibial.\n",
      "                                                                           \n",
      "\n",
      "\n",
      "\n",
      "\n",
      "2 \n",
      "\n",
      "\n",
      "     DATE: [**2840-12-31**] 12:32 PM\n",
      "     ART EXT (REST ONLY)                                             Clip # [**Clip Number (Radiology) 13528**]\n",
      "     Reason: 77 female with worsening necrotic feet s/p mitral valvular s\n",
      "     Admitting Diagnosis: LEG ISCHEMIA\n",
      "     ______________________________________________________________________________\n",
      "     UNDERLYING MEDICAL CONDITION:\n",
      "       77 year old woman with CAD, pvd, s/p cabg and mvr, esrd on hd.                 \n",
      "                                           \n",
      "     REASON FOR THIS EXAMINATION:\n",
      "      77 female with worsening necrotic feet s/p mitral valvular surgery.             \n",
      "     ______________________________________________________________________________\n",
      "                                     FINAL REPORT\n",
      "     ARTERIAL DOPPLER, LOWER EXTREMITY\n",
      "     \n",
      "     REASON:  Gangrene of foot.\n",
      "     \n",
      "     FINDINGS:  Doppler evaluation was performed of both lower extremity arterial\n",
      "     systems at rest.  On the right, Doppler tracings are triphasic at the femoral\n",
      "     and popliteal levels only.  They are monophasic below.  No ankle brachial\n",
      "     index could be calculated due to noncompressible vessels.  Pulse volume\n",
      "     recordings show drop off at the ankle level and are flat line at the\n",
      "     metatarsals.\n",
      "     \n",
      "     On the left, Doppler tracings are triphasic at the femoral and popliteal\n",
      "     levels only.  They are monophasic below.  No ankle brachial index could be\n",
      "     calculated.  Pulse volume recordings show drop off at the ankle level and flat\n",
      "     line at the metatarsals.\n",
      "     \n",
      "     IMPRESSION:  Significant bilateral tibial artery occlusive disease with severe\n",
      "     flow deficit to both forefeet.\n",
      "                                                                           \n",
      "\n",
      "\n",
      "\n",
      "\n",
      "3 \n",
      "\n",
      "\n",
      "     DATE: [**3243-9-9**] 10:54 AM\n",
      "     ART EXT (REST ONLY)                                             Clip # [**Clip Number (Radiology) 5238**]\n",
      "     Reason: arterial supply to RLE.                                     \n",
      "     Admitting Diagnosis: ABDOMINAL AORTIC ANEURYSM/SDA\n",
      "     ______________________________________________________________________________\n",
      "     UNDERLYING MEDICAL CONDITION:\n",
      "      67 year old man s/p Aorto-BiFem bypass now with cool RLE, monophasic DP/PT/[**Hospital Unit Name **] \n",
      "      previously with triphasic signals.\n",
      "     REASON FOR THIS EXAMINATION:\n",
      "      evaluate the Right limb inflow to the right leg with PVR s/p aorto-[**Hospital1 **] fem       \n",
      "     ______________________________________________________________________________\n",
      "                                     FINAL REPORT\n",
      "     INDICATION: Cold right lower extremity and interval worsening in Doppler\n",
      "     waveforms in the right popliteal, posterior tibial and dorsalis pedis arteries\n",
      "     in a 67 year old man who is status post aortobifemoral bypass graft.\n",
      "     \n",
      "     TECHNIQUE & FINDINGS: Recording of continuous Doppler signal confirmed the\n",
      "     presence of monophasic waveforms in the right femoral, popliteal, posterior\n",
      "     tibial, and dorsalis pedis arteries and showed triphasic waveforms at all\n",
      "     levels in the left lower extremity.\n",
      "     \n",
      "     Pulse volume recording showed amplitudes of 6 mm in the right thigh and calf\n",
      "     and 3 mm in the right ankle and metatarsals. On the left side, the amplitudes\n",
      "     were 19 mm and above at all levels.\n",
      "     \n",
      "     Non-invasive measurement showed a systolic pressure of 136 mm Hg in the left\n",
      "     brachial artery. The ankle-brachial indices were 1.13 and above in the left\n",
      "     ankle. On the right side, the ankle-brachial index was 0.36-0.39. The\n",
      "     segmental pressure indices were 0.48 in the right calf and 0.60 in the right\n",
      "     lower thigh.\n",
      "     \n",
      "     CONCLUSION: Severe arterial inflow deficit to the right leg suggesting\n",
      "     significant obstruction more proximally in the right limb of the\n",
      "     aortobifemoral bypass.\n",
      "\n",
      "\n",
      "\n",
      "\n",
      "4 \n",
      "\n",
      "\n",
      "     DATE: [**3357-2-21**] 8:26 AM\n",
      "     ART DUP EXT LO UNI;F/U; ART EXT SGL LEVEL                       Clip # [**Clip Number (Radiology) 123**]\n",
      "     Reason: 48 M s/p L below knee fem-[**Hospital Unit Name **] bypass graft ([**2-16**]).  Please e\n",
      "     ______________________________________________________________________________\n",
      "     UNDERLYING MEDICAL CONDITION:\n",
      "      48 year old man with ischemic lt. foot ( ist toe) s/p lt. ax fem-fem-pop2/02\n",
      "     REASON FOR THIS EXAMINATION:\n",
      "      48 M s/p L below knee fem-[**Hospital Unit Name **] bypass graft ([**2-16**]).  Please evaluate graft.\n",
      "     ______________________________________________________________________________\n",
      "                                     FINAL REPORT\n",
      "     ARTERIAL DUPLEX LOWER EXTREMITY:\n",
      "     \n",
      "     REASON:  Patient with left below the knee femoral popliteal bypass graft.  Now\n",
      "     with pain and discoloration left foot.  Evaluate graft.\n",
      "     \n",
      "     FINDINGS:  Duplex evaluation was performed of the left lower extremity\n",
      "     arterial system with concentration on the femoral popliteal bypass graft.  The\n",
      "     peak systolic velocities are as follows:  92, 89, 16, 18 in the native\n",
      "     proximal vessel, proximal anastomosis,  distal anastomosis and native distal\n",
      "     vessel respectively.  In the body of the graft velocities proximally are 36\n",
      "     and 33.  Distally they decrease to 22 up to the distal anastomosis.  On the\n",
      "     left, the ankle brachial index is 0.71.  Pulse volume recordings at the ankle\n",
      "     show 10 mm of deflection.  At the metatarsals there is some artifact but there\n",
      "     is less 5 mm deflection.\n",
      "     \n",
      "     IMPRESSION:  Patent left femoral popliteal bypass graft.  There are\n",
      "     significantly decreased velocities throughout the body of the graft which is\n",
      "     consistent with a failing graft.  In addition there is limited flow to the\n",
      "     forefoot.\n",
      "     \n",
      "\n",
      "\n",
      "\n",
      "\n",
      "5 \n",
      "\n",
      "\n",
      "     DATE: [**3357-2-21**] 8:26 AM\n",
      "     ART DUP EXT LO UNI;F/U; ART EXT SGL LEVEL                       Clip # [**Clip Number (Radiology) 123**]\n",
      "     Reason: 48 M s/p L below knee fem-[**Hospital Unit Name **] bypass graft ([**2-16**]).  Please e\n",
      "     ______________________________________________________________________________\n",
      "     UNDERLYING MEDICAL CONDITION:\n",
      "      48 year old man with ischemic lt. foot ( ist toe) s/p lt. ax fem-fem-pop2/02\n",
      "     REASON FOR THIS EXAMINATION:\n",
      "      48 M s/p L below knee fem-[**Hospital Unit Name **] bypass graft ([**2-16**]).  Please evaluate graft.\n",
      "     ______________________________________________________________________________\n",
      "                                     FINAL REPORT\n",
      "     ARTERIAL DUPLEX LOWER EXTREMITY:\n",
      "     \n",
      "     REASON:  Patient with left below the knee femoral popliteal bypass graft.  Now\n",
      "     with pain and discoloration left foot.  Evaluate graft.\n",
      "     \n",
      "     FINDINGS:  Duplex evaluation was performed of the left lower extremity\n",
      "     arterial system with concentration on the femoral popliteal bypass graft.  The\n",
      "     peak systolic velocities are as follows:  92, 89, 16, 18 in the native\n",
      "     proximal vessel, proximal anastomosis,  distal anastomosis and native distal\n",
      "     vessel respectively.  In the body of the graft velocities proximally are 36\n",
      "     and 33.  Distally they decrease to 22 up to the distal anastomosis.  On the\n",
      "     left, the ankle brachial index is 0.71.  Pulse volume recordings at the ankle\n",
      "     show 10 mm of deflection.  At the metatarsals there is some artifact but there\n",
      "     is less 5 mm deflection.\n",
      "     \n",
      "     IMPRESSION:  Patent left femoral popliteal bypass graft.  There are\n",
      "     significantly decreased velocities throughout the body of the graft which is\n",
      "     consistent with a failing graft.  In addition there is limited flow to the\n",
      "     forefoot.\n",
      "     \n",
      "\n",
      "\n",
      "\n",
      "\n"
     ]
    }
   ],
   "source": [
    "\n",
    "\n",
    "for message_no, message in enumerate(abi['text'][:10]):\n",
    "    print(message_no, message)\n",
    "    print('\\n')\n",
    "\n"
   ]
  },
  {
   "cell_type": "code",
   "execution_count": 31,
   "metadata": {},
   "outputs": [
    {
     "data": {
      "image/png": "[encoded data removed]",
      "text/plain": [
       "<matplotlib.figure.Figure at 0x7fac0ef64048>"
      ]
     },
     "metadata": {},
     "output_type": "display_data"
    }
   ],
   "source": [
    "\n",
    "\n",
    "cols= ['abi']\n",
    "\n",
    "plt.figure(figsize=(14,8))\n",
    "gs = gridspec.GridSpec(1,1)\n",
    "for i, cn in enumerate(cols):\n",
    "    ax = plt.subplot(gs[i])\n",
    "    sns.countplot(y = cn , data = abi)\n",
    "    ax.set_xlabel('')\n",
    "    ax.set_title(str(cn))\n",
    "    ax.set_ylabel(' ')\n",
    "\n"
   ]
  },
  {
   "cell_type": "code",
   "execution_count": 32,
   "metadata": {},
   "outputs": [
    {
     "name": "stderr",
     "output_type": "stream",
     "text": [
      "/opt/conda/lib/python3.6/site-packages/ipykernel_launcher.py:3: SettingWithCopyWarning: \n",
      "A value is trying to be set on a copy of a slice from a DataFrame.\n",
      "Try using .loc[row_indexer,col_indexer] = value instead\n",
      "\n",
      "See the caveats in the documentation: http://pandas.pydata.org/pandas-docs/stable/indexing.html#indexing-view-versus-copy\n",
      "  This is separate from the ipykernel package so we can avoid doing imports until\n"
     ]
    },
    {
     "data": {
      "text/html": [
       "<div>\n",
       "<table border=\"1\" class=\"dataframe\">\n",
       "  <thead>\n",
       "    <tr style=\"text-align: right;\">\n",
       "      <th></th>\n",
       "      <th>text</th>\n",
       "      <th>abi</th>\n",
       "      <th>length</th>\n",
       "    </tr>\n",
       "  </thead>\n",
       "  <tbody>\n",
       "    <tr>\n",
       "      <th>0</th>\n",
       "      <td>\\n\\n\\n     DATE: [**3318-5-26**] 9:30 AM\\n    ...</td>\n",
       "      <td>0</td>\n",
       "      <td>413</td>\n",
       "    </tr>\n",
       "    <tr>\n",
       "      <th>1</th>\n",
       "      <td>\\n\\n\\n     DATE: [**3318-5-26**] 9:30 AM\\n    ...</td>\n",
       "      <td>0</td>\n",
       "      <td>413</td>\n",
       "    </tr>\n",
       "    <tr>\n",
       "      <th>2</th>\n",
       "      <td>\\n\\n\\n     DATE: [**2840-12-31**] 12:32 PM\\n  ...</td>\n",
       "      <td>0</td>\n",
       "      <td>186</td>\n",
       "    </tr>\n",
       "    <tr>\n",
       "      <th>3</th>\n",
       "      <td>\\n\\n\\n     DATE: [**3243-9-9**] 10:54 AM\\n    ...</td>\n",
       "      <td>0</td>\n",
       "      <td>252</td>\n",
       "    </tr>\n",
       "    <tr>\n",
       "      <th>4</th>\n",
       "      <td>\\n\\n\\n     DATE: [**3357-2-21**] 8:26 AM\\n    ...</td>\n",
       "      <td>0</td>\n",
       "      <td>236</td>\n",
       "    </tr>\n",
       "  </tbody>\n",
       "</table>\n",
       "</div>"
      ],
      "text/plain": [
       "                                                text abi  length\n",
       "0  \\n\\n\\n     DATE: [**3318-5-26**] 9:30 AM\\n    ...   0     413\n",
       "1  \\n\\n\\n     DATE: [**3318-5-26**] 9:30 AM\\n    ...   0     413\n",
       "2  \\n\\n\\n     DATE: [**2840-12-31**] 12:32 PM\\n  ...   0     186\n",
       "3  \\n\\n\\n     DATE: [**3243-9-9**] 10:54 AM\\n    ...   0     252\n",
       "4  \\n\\n\\n     DATE: [**3357-2-21**] 8:26 AM\\n    ...   0     236"
      ]
     },
     "execution_count": 32,
     "metadata": {},
     "output_type": "execute_result"
    }
   ],
   "source": [
    "abi1 = abi[['text','abi']]\n",
    "#Messtype1['length'] = Messtype1['comment_text'].apply(len)\n",
    "abi1['length'] = abi1['text'].str.split().apply(len)\n",
    "abi1.head()"
   ]
  },
  {
   "cell_type": "code",
   "execution_count": 33,
   "metadata": {},
   "outputs": [
    {
     "data": {
      "image/png": "[encoded data removed]",
      "text/plain": [
       "<matplotlib.figure.Figure at 0x7fac0ef5ee48>"
      ]
     },
     "metadata": {},
     "output_type": "display_data"
    }
   ],
   "source": [
    "\n",
    "\n",
    "abi1['length'].plot(bins=50, kind='hist');\n",
    "\n"
   ]
  },
  {
   "cell_type": "code",
   "execution_count": 34,
   "metadata": {},
   "outputs": [
    {
     "data": {
      "text/plain": [
       "count      6.000000\n",
       "mean     289.333333\n",
       "std       98.333446\n",
       "min      186.000000\n",
       "25%      236.000000\n",
       "50%      244.000000\n",
       "75%      372.750000\n",
       "max      413.000000\n",
       "Name: length, dtype: float64"
      ]
     },
     "execution_count": 34,
     "metadata": {},
     "output_type": "execute_result"
    }
   ],
   "source": [
    "\n",
    "\n",
    "abi1.length.describe()\n",
    "\n"
   ]
  },
  {
   "cell_type": "code",
   "execution_count": 41,
   "metadata": {},
   "outputs": [
    {
     "data": {
      "image/png": "[encoded data removed]",
      "text/plain": [
       "<matplotlib.figure.Figure at 0x7fac0ef5e828>"
      ]
     },
     "metadata": {},
     "output_type": "display_data"
    }
   ],
   "source": [
    "\n",
    "abi1.hist(column='length', by='abi', bins=50,figsize=(12,4));\n",
    "\n"
   ]
  },
  {
   "cell_type": "code",
   "execution_count": 42,
   "metadata": {},
   "outputs": [],
   "source": [
    "\n",
    "\n",
    "def text_process(mess):\n",
    "    # Check characters to see if they are in punctuation\n",
    "    nopunc = [char for char in mess if char not in string.punctuation]\n",
    "    # Join the characters again to form the string.\n",
    "    nopunc = ''.join(nopunc)\n",
    "    # Now just remove any stopwords\n",
    "    return [word for word in nopunc.split() if word.lower() not in stopwords.words('english')]\n",
    "\n"
   ]
  },
  {
   "cell_type": "code",
   "execution_count": 43,
   "metadata": {},
   "outputs": [
    {
     "data": {
      "text/plain": [
       "0    [DATE, 3318526, 930, ART, DUP, EXT, LO, UNIFU,...\n",
       "1    [DATE, 3318526, 930, ART, DUP, EXT, LO, UNIFU,...\n",
       "2    [DATE, 28401231, 1232, PM, ART, EXT, REST, Cli...\n",
       "3    [DATE, 324399, 1054, ART, EXT, REST, Clip, Cli...\n",
       "4    [DATE, 3357221, 826, ART, DUP, EXT, LO, UNIFU,...\n",
       "Name: text, dtype: object"
      ]
     },
     "execution_count": 43,
     "metadata": {},
     "output_type": "execute_result"
    }
   ],
   "source": [
    "\n",
    "\n",
    "abi1['text'].head(5).apply(text_process)\n",
    "\n"
   ]
  },
  {
   "cell_type": "code",
   "execution_count": 44,
   "metadata": {},
   "outputs": [
    {
     "data": {
      "text/html": [
       "<div>\n",
       "<table border=\"1\" class=\"dataframe\">\n",
       "  <thead>\n",
       "    <tr style=\"text-align: right;\">\n",
       "      <th></th>\n",
       "      <th>text</th>\n",
       "      <th>abi</th>\n",
       "      <th>length</th>\n",
       "    </tr>\n",
       "  </thead>\n",
       "  <tbody>\n",
       "    <tr>\n",
       "      <th>0</th>\n",
       "      <td>\\n\\n\\n     DATE: [**3318-5-26**] 9:30 AM\\n    ...</td>\n",
       "      <td>0</td>\n",
       "      <td>413</td>\n",
       "    </tr>\n",
       "    <tr>\n",
       "      <th>1</th>\n",
       "      <td>\\n\\n\\n     DATE: [**3318-5-26**] 9:30 AM\\n    ...</td>\n",
       "      <td>0</td>\n",
       "      <td>413</td>\n",
       "    </tr>\n",
       "    <tr>\n",
       "      <th>2</th>\n",
       "      <td>\\n\\n\\n     DATE: [**2840-12-31**] 12:32 PM\\n  ...</td>\n",
       "      <td>0</td>\n",
       "      <td>186</td>\n",
       "    </tr>\n",
       "    <tr>\n",
       "      <th>3</th>\n",
       "      <td>\\n\\n\\n     DATE: [**3243-9-9**] 10:54 AM\\n    ...</td>\n",
       "      <td>0</td>\n",
       "      <td>252</td>\n",
       "    </tr>\n",
       "    <tr>\n",
       "      <th>4</th>\n",
       "      <td>\\n\\n\\n     DATE: [**3357-2-21**] 8:26 AM\\n    ...</td>\n",
       "      <td>0</td>\n",
       "      <td>236</td>\n",
       "    </tr>\n",
       "  </tbody>\n",
       "</table>\n",
       "</div>"
      ],
      "text/plain": [
       "                                                text abi  length\n",
       "0  \\n\\n\\n     DATE: [**3318-5-26**] 9:30 AM\\n    ...   0     413\n",
       "1  \\n\\n\\n     DATE: [**3318-5-26**] 9:30 AM\\n    ...   0     413\n",
       "2  \\n\\n\\n     DATE: [**2840-12-31**] 12:32 PM\\n  ...   0     186\n",
       "3  \\n\\n\\n     DATE: [**3243-9-9**] 10:54 AM\\n    ...   0     252\n",
       "4  \\n\\n\\n     DATE: [**3357-2-21**] 8:26 AM\\n    ...   0     236"
      ]
     },
     "execution_count": 44,
     "metadata": {},
     "output_type": "execute_result"
    }
   ],
   "source": [
    "abi1.head()"
   ]
  },
  {
   "cell_type": "code",
   "execution_count": 45,
   "metadata": {},
   "outputs": [
    {
     "name": "stdout",
     "output_type": "stream",
     "text": [
      "4 2 6\n"
     ]
    }
   ],
   "source": [
    "\n",
    "\n",
    "from sklearn.model_selection import train_test_split\n",
    "\n",
    "msg_train, msg_test, label_train, label_test = \\\n",
    "train_test_split(abi1['text'], abi1['abi'], test_size=0.2)\n",
    "\n",
    "print(len(msg_train), len(msg_test), len(msg_train) + len(msg_test))\n",
    "\n"
   ]
  },
  {
   "cell_type": "code",
   "execution_count": 46,
   "metadata": {},
   "outputs": [],
   "source": [
    "\n",
    "\n",
    "pipeline = Pipeline([\n",
    "    ('bow', CountVectorizer(analyzer=text_process)),  # strings to token integer counts\n",
    "    ('tfidf', TfidfTransformer()),  # integer counts to weighted TF-IDF scores\n",
    "    ('classifier', MultinomialNB()),  # train on TF-IDF vectors w/ Naive Bayes classifier\n",
    "])\n",
    "\n"
   ]
  },
  {
   "cell_type": "code",
   "execution_count": 47,
   "metadata": {},
   "outputs": [
    {
     "name": "stderr",
     "output_type": "stream",
     "text": [
      "/opt/conda/lib/python3.6/site-packages/sklearn/feature_extraction/text.py:1059: FutureWarning: Conversion of the second argument of issubdtype from `float` to `np.floating` is deprecated. In future, it will be treated as `np.float64 == np.dtype(float).type`.\n",
      "  if hasattr(X, 'dtype') and np.issubdtype(X.dtype, np.float):\n",
      "/opt/conda/lib/python3.6/site-packages/sklearn/naive_bayes.py:455: RuntimeWarning: divide by zero encountered in log\n",
      "  self.class_log_prior_ = (np.log(self.class_count_) -\n"
     ]
    }
   ],
   "source": [
    "\n",
    "\n",
    "pipeline.fit(msg_train,label_train)\n",
    "predictions = pipeline.predict(msg_test)\n",
    "\n"
   ]
  },
  {
   "cell_type": "code",
   "execution_count": 48,
   "metadata": {},
   "outputs": [
    {
     "name": "stdout",
     "output_type": "stream",
     "text": [
      "             precision    recall  f1-score   support\n",
      "\n",
      "          0       1.00      1.00      1.00         2\n",
      "\n",
      "avg / total       1.00      1.00      1.00         2\n",
      "\n"
     ]
    }
   ],
   "source": [
    "\n",
    "\n",
    "print(classification_report(predictions,label_test))\n",
    "\n"
   ]
  },
  {
   "cell_type": "code",
   "execution_count": null,
   "metadata": {},
   "outputs": [],
   "source": []
  }
 ],
 "metadata": {
  "kernelspec": {
   "display_name": "Python 3",
   "language": "python",
   "name": "python3"
  },
  "language_info": {
   "codemirror_mode": {
    "name": "ipython",
    "version": 3
   },
   "file_extension": ".py",
   "mimetype": "text/x-python",
   "name": "python",
   "nbconvert_exporter": "python",
   "pygments_lexer": "ipython3",
   "version": "3.6.4"
  }
 },
 "nbformat": 4,
 "nbformat_minor": 2
}
