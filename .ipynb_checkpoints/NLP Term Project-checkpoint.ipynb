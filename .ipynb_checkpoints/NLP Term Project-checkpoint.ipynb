{
 "cells": [
  {
   "cell_type": "code",
   "execution_count": 1,
   "metadata": {},
   "outputs": [],
   "source": [
    "import pymysql\n",
    "import pandas as pd\n",
    "import getpass\n",
    "from PyRuSH.RuSH import RuSH\n",
    "from pyConTextNLP import pyConTextGraph\n",
    "from DocumentClassifier import DocumentClassifier \n",
    "from pyConTextNLP.utils import get_document_markups\n",
    "\n",
    "from DocumentClassifier import FeatureInferencer\n",
    "from DocumentClassifier import DocumentInferencer\n",
    "from nlp_pneumonia_utils import markup_sentence\n",
    "from itemData import get_item_data\n",
    "from visual import convertMarkups2DF\n",
    "\n",
    "from visual import view_pycontext_output\n",
    "from visual import view_pycontext_outputs\n",
    "from visual import Vis"
   ]
  },
  {
   "cell_type": "code",
   "execution_count": 2,
   "metadata": {},
   "outputs": [],
   "source": [
    "# begin to define MyPipe class\n",
    "class MyPipe:\n",
    "    def __init__(self, sentence_rules, target_rules, context_rules, feature_inference_rule, document_inference_rule):\n",
    "        # initiate necessary components here        \n",
    "        self.sentence_segmenter = RuSH(sentence_rules)\n",
    "        self.targets=get_item_data(target_rules)\n",
    "        self.modifiers=get_item_data(context_rules)\n",
    "        self.feature_inferencer=FeatureInferencer(feature_inference_rule)\n",
    "        self.document_inferencer = DocumentInferencer(document_inference_rule)\n",
    "    \n",
    "    def process(self, doc_text):        \n",
    "        #process your input doc_text, return the required results\n",
    "        sentences=self.sentence_segmenter.segToSentenceSpans(doc_text)\n",
    "        #sentences=doc_text.split('\\n')\n",
    "        context_doc = pyConTextGraph.ConTextDocument()\n",
    "\n",
    "        for sentence in sentences:\n",
    "            sentence_text=doc_text[sentence.begin:sentence.end].lower()\n",
    "            # Process every sentence by adding markup\n",
    "            m = markup_sentence(sentence_text, modifiers=self.modifiers, targets=self.targets)\n",
    "            context_doc.addMarkup(m)\n",
    "            #context_doc.getSectionMarkups()\n",
    "        \n",
    "        markups = get_document_markups(context_doc)\n",
    "        annotations, relations, doc_txt = convertMarkups2DF(markups) \n",
    "        \n",
    "        inferenced_types = self.feature_inferencer.process(annotations, relations)\n",
    "        doc_class = self.document_inferencer.process(inferenced_types)\n",
    "        \n",
    "        return doc_class, context_doc, annotations, relations"
   ]
  },
  {
   "cell_type": "code",
   "execution_count": 14,
   "metadata": {},
   "outputs": [],
   "source": [
    "sentence_rules='KB/rush_rules.tsv'\n",
    "# you can point target_rules to a file path instead, if there are many rules\n",
    "target_rules='''\n",
    "Comments: ''\n",
    "Direction: ''\n",
    "Lex: peripheral vascular disease\n",
    "Regex: r'(peripheral\\s*(arter\\w*|vasc\\w*)\\s*disease)'\n",
    "Type: PAD\n",
    "---\n",
    "Comments: ''\n",
    "Direction: ''\n",
    "Lex: PVD\n",
    "Regex: 'pvd'\n",
    "Type: PAD'''\n",
    "# context rules are often lengthy, you can point context_rules to an external rule files instead\n",
    "context_rules='''Comments: ''\n",
    "Direction: forward\n",
    "Lex: 'no'\n",
    "Regex: ''\n",
    "Type: DEFINITE_NEGATED_EXISTENCE\n",
    "---\n",
    "Comments: ''\n",
    "Direction: forward\n",
    "Lex: 'denies'\n",
    "Regex: ''\n",
    "Type: DEFINITE_NEGATED_EXISTENCE\n",
    "'''\n",
    "# define the feature inference rule\n",
    "feature_inference_rule='''\n",
    "#Conclusion type, Evidence type, Modifier values associated with the evidence\n",
    "NEGATED_CONCEPT,PAD,DEFINITE_NEGATED_EXISTENCE\n",
    "'''\n",
    "# define the document inference rule\n",
    "document_inference_rule='''\n",
    "#Conclusion Type at document level, Evidence type at mention level\n",
    "PAD_DOC,PAD\n",
    "\n",
    "#Default document type\n",
    "NO_PAD\n",
    "'''"
   ]
  },
  {
   "cell_type": "code",
   "execution_count": 15,
   "metadata": {},
   "outputs": [],
   "source": [
    "#initiate an instance of MyPipe\n",
    "myPipe=MyPipe(sentence_rules, target_rules, context_rules, feature_inference_rule, document_inference_rule)"
   ]
  },
  {
   "cell_type": "code",
   "execution_count": 5,
   "metadata": {},
   "outputs": [
    {
     "name": "stdout",
     "output_type": "stream",
     "text": [
      "Enter MySQL passwd for jovyan········\n"
     ]
    }
   ],
   "source": [
    "conn = pymysql.connect(host=\"mysql\",\n",
    "                       port=3306,user=\"jovyan\",\n",
    "                       passwd=getpass.getpass(\"Enter MySQL passwd for jovyan\"),db='mimic2')\n",
    "\n",
    "cursor = conn.cursor()"
   ]
  },
  {
   "cell_type": "code",
   "execution_count": 6,
   "metadata": {},
   "outputs": [],
   "source": [
    "pad_data = pd.read_sql(\"\"\"select c.subject_id, code, text\n",
    "                    from icd9 c, noteevents n\n",
    "                    where c.subject_id = n.subject_id and code like '443%' and `text` like\n",
    "                    '%ankle%brachial index%'\"\"\",conn)"
   ]
  },
  {
   "cell_type": "code",
   "execution_count": 8,
   "metadata": {},
   "outputs": [
    {
     "data": {
      "text/plain": [
       "6"
      ]
     },
     "execution_count": 8,
     "metadata": {},
     "output_type": "execute_result"
    }
   ],
   "source": [
    "len(pad_data)"
   ]
  },
  {
   "cell_type": "code",
   "execution_count": 16,
   "metadata": {},
   "outputs": [],
   "source": [
    "results = {index: (myPipe.process(row.text.replace('\\n',' ')))for index, row in pad_data.iterrows()}"
   ]
  },
  {
   "cell_type": "code",
   "execution_count": 17,
   "metadata": {},
   "outputs": [
    {
     "name": "stdout",
     "output_type": "stream",
     "text": [
      "{0: ('pad_doc', __________________________________________\n",
      ",   markup_id vis_category  start   end  txt type\n",
      "0        T0       Target   28.0  31.0  pvd  pad\n",
      "1        T1       Target   80.0  83.0  pvd  pad, Empty DataFrame\n",
      "Columns: [relation_id, type, arg1_cate, arg1_id, arg2_cate, arg2_id]\n",
      "Index: []), 1: ('pad_doc', __________________________________________\n",
      ",   markup_id vis_category  start   end  txt type\n",
      "0        T0       Target   28.0  31.0  pvd  pad\n",
      "1        T1       Target   80.0  83.0  pvd  pad, Empty DataFrame\n",
      "Columns: [relation_id, type, arg1_cate, arg1_id, arg2_cate, arg2_id]\n",
      "Index: []), 2: ('pad_doc', __________________________________________\n",
      ",   markup_id vis_category  start    end  txt type\n",
      "0        T0       Target  171.0  174.0  pvd  pad, Empty DataFrame\n",
      "Columns: [relation_id, type, arg1_cate, arg1_id, arg2_cate, arg2_id]\n",
      "Index: []), 3: ('no_pad', __________________________________________\n",
      ", Empty DataFrame\n",
      "Columns: [markup_id, vis_category, start, end, txt, type]\n",
      "Index: [], Empty DataFrame\n",
      "Columns: [relation_id, type, arg1_cate, arg1_id, arg2_cate, arg2_id]\n",
      "Index: []), 4: ('no_pad', __________________________________________\n",
      ", Empty DataFrame\n",
      "Columns: [markup_id, vis_category, start, end, txt, type]\n",
      "Index: [], Empty DataFrame\n",
      "Columns: [relation_id, type, arg1_cate, arg1_id, arg2_cate, arg2_id]\n",
      "Index: []), 5: ('no_pad', __________________________________________\n",
      ", Empty DataFrame\n",
      "Columns: [markup_id, vis_category, start, end, txt, type]\n",
      "Index: [], Empty DataFrame\n",
      "Columns: [relation_id, type, arg1_cate, arg1_id, arg2_cate, arg2_id]\n",
      "Index: [])}\n"
     ]
    }
   ],
   "source": [
    "print(results)"
   ]
  },
  {
   "cell_type": "code",
   "execution_count": 11,
   "metadata": {},
   "outputs": [],
   "source": [
    "context_docs=dict()\n",
    "i=0\n",
    "for item, row in results.items(): \n",
    "    doc_name = \"doc\" + str(i)\n",
    "    context_docs[doc_name]=row[1]\n",
    "    i=i+1"
   ]
  },
  {
   "cell_type": "code",
   "execution_count": 12,
   "metadata": {},
   "outputs": [
    {
     "data": {
      "text/html": [
       "\n",
       "\t\t\t      <iframe src = \"tmp/test.html\" frameborder=\"0\" width = \"850\" height = \"165\">\n",
       "\t\t\t         Sorry your browser does not support inline frames.\n",
       "\t\t\t      </iframe>"
      ],
      "text/plain": [
       "<IPython.core.display.HTML object>"
      ]
     },
     "metadata": {},
     "output_type": "display_data"
    }
   ],
   "source": [
    "view_pycontext_output(context_docs['doc1'], Vis(file_name=\"test.html\"))"
   ]
  },
  {
   "cell_type": "code",
   "execution_count": 13,
   "metadata": {},
   "outputs": [
    {
     "data": {
      "application/vnd.jupyter.widget-view+json": {
       "model_id": "14eda05adea7420c85ad48787b85eab2",
       "version_major": 2,
       "version_minor": 0
      },
      "text/html": [
       "<p>Failed to display Jupyter Widget of type <code>interactive</code>.</p>\n",
       "<p>\n",
       "  If you're reading this message in the Jupyter Notebook or JupyterLab Notebook, it may mean\n",
       "  that the widgets JavaScript is still loading. If this message persists, it\n",
       "  likely means that the widgets JavaScript library is either not installed or\n",
       "  not enabled. See the <a href=\"https://ipywidgets.readthedocs.io/en/stable/user_install.html\">Jupyter\n",
       "  Widgets Documentation</a> for setup instructions.\n",
       "</p>\n",
       "<p>\n",
       "  If you're reading this message in another frontend (for example, a static\n",
       "  rendering on GitHub or <a href=\"https://nbviewer.jupyter.org/\">NBViewer</a>),\n",
       "  it may mean that your frontend doesn't currently support widgets.\n",
       "</p>\n"
      ],
      "text/plain": [
       "interactive(children=(IntSlider(value=0, description='i', max=5), Output()), _dom_classes=('widget-interact',))"
      ]
     },
     "metadata": {},
     "output_type": "display_data"
    }
   ],
   "source": [
    "view_pycontext_outputs(context_docs)"
   ]
  },
  {
   "cell_type": "code",
   "execution_count": null,
   "metadata": {},
   "outputs": [],
   "source": []
  }
 ],
 "metadata": {
  "kernelspec": {
   "display_name": "Python 3",
   "language": "python",
   "name": "python3"
  },
  "language_info": {
   "codemirror_mode": {
    "name": "ipython",
    "version": 3
   },
   "file_extension": ".py",
   "mimetype": "text/x-python",
   "name": "python",
   "nbconvert_exporter": "python",
   "pygments_lexer": "ipython3",
   "version": "3.6.4"
  }
 },
 "nbformat": 4,
 "nbformat_minor": 2
}
