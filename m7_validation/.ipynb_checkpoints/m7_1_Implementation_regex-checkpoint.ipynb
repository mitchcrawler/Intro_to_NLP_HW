{
 "cells": [
  {
   "cell_type": "markdown",
   "metadata": {},
   "source": [
    "# Implementation\n",
    "\n",
    "System design outlines the main steps in the system processing. The same design can be implemented in multiple ways.\n",
    "\n",
    "### Consider the following use case\n",
    "We are tasked with finding possible symptoms of depression and labeling them with Negation context. \n",
    "\n",
    "In order to simplify future implementations as suggested by [Leidner 2003](Leidner_2003.pdf), we can utilize a framework. Framework (as opposed to toolkit - think NLTK) does not necessarily provide specific algorithms, but rather simplifies working with different algorithms by specifying data formats.\n",
    "\n",
    "This workbook illustrates a simple framework called [pipeUtils](pipeUtils_doc.html) that directs how data is represented during processing. \n",
    "\n",
    "The framwork has two main classes: Annotation and Document.\n"
   ]
  },
  {
   "cell_type": "code",
   "execution_count": 1,
   "metadata": {},
   "outputs": [],
   "source": [
    "from pipeUtils import Annotation\n",
    "from pipeUtils import Document"
   ]
  },
  {
   "cell_type": "markdown",
   "metadata": {},
   "source": [
    "Document is a container for all data related to a specific text passage. In its simple implementation, a document text can either be specified as a string:\n",
    "    \n",
    "    from pipeUtils import Document\n",
    "    doc = Document(text='This is the document text')\n",
    "    \n",
    "or loaded from a text file:"
   ]
  },
  {
   "cell_type": "code",
   "execution_count": 2,
   "metadata": {},
   "outputs": [],
   "source": [
    "doc = Document()\n",
    "doc.load_document_from_file('data/test.txt')"
   ]
  },
  {
   "cell_type": "markdown",
   "metadata": {},
   "source": [
    "Since we are working with brat annotation tool, our framework has functionality to read brat annotations into the document. Each annotation becomes an object of Annotation class."
   ]
  },
  {
   "cell_type": "code",
   "execution_count": 3,
   "metadata": {
    "scrolled": true
   },
   "outputs": [
    {
     "name": "stdout",
     "output_type": "stream",
     "text": [
      "test.txt\r\n",
      "-------\r\n",
      "General Medical Clinic\n",
      "05/28/2010 13:00\n",
      "\n",
      "\n",
      "CC\n",
      "Follow up depression.\n",
      "\n",
      "Subjective\n",
      "\n",
      "Depression\n",
      "The pt indicates Citalopram is helping control her depression symptoms but she continues to feel depressed most days.  Her sleep and fatigue have improved significantly with use of Citalopram.  She denies suicidal ideation.  Her PHQ-9 score is 18 today.\n",
      "\n",
      "Hypertension\n",
      "No Light-headedness.  The pt reports compliance with use of lisinopril and metoprolol.  She has been on these two medications for several years and has never used any other antihypertensive medications in her life.  She has not been checking her BP at home.\n",
      "\n",
      "Osteoarthritis\n",
      "Knee pain is well controlled currently.  No knee pain today.\n",
      "\n",
      "Coronary Artery Disease\n",
      "No angina.  No dyspnea.\n",
      "\n",
      "\n",
      "Allergies\n",
      "NKDA\n",
      "\n",
      "PMH\n",
      "Depression\n",
      "Hypertension\n",
      "Iron deficiency anemia\n",
      "Osteoarthritis\n",
      "Coronary Artery Disease\n",
      "Hyperlipidemia\n",
      "\n",
      "PSurgHx\n",
      "None \n",
      "\n",
      "FamHx\n",
      "None significant\n",
      "\n",
      "SocHx\n",
      "Lifetime non-user of tobacco.\n",
      "Drinks alcohol rarely.\n",
      "Has 5 adult children.\n",
      "Unemployed (has had many different jobs).\n",
      "\n",
      "Medications\n",
      "Citalopram 20 mg PO daily #90, 3 refills\n",
      "Lisinopril 20 mg PO daily #90, 3 refills\n",
      "Ferrous sulfate 325 mg PO BID #180, 3 refills\n",
      "Metoprolol 50 mg PO BID #180, 3 refills\n",
      "Acetaminophen 1000 mg PO q6h PRN #120, 11 refills\n",
      "Aspirin 81 mg PO daily #90, 3 refills\n",
      "Simvastatin 40 mg PO daily #90, 3 refills\n",
      "\n",
      "Objective\n",
      "VITALS:\n",
      "\tSBP:145, DBP:92, Pulse:76, POx:94, Temp:99.1, RR:14, Weight:198, Height:66, BMI:32\n",
      "EXAM:\n",
      "GEN: NAD, well developed and well nourished.\n",
      "HEART: RRR no M/R/G\n",
      "PSYCH: normal mood and behavior during interview.\n",
      "\n",
      "Author:  IM_Doctor\r\n",
      "-------\r\n",
      "T1 Medication 108 118 Citalopram [Treats:depression symptoms]\r\n",
      "T2 Symptom 142 161 depression symptoms [Negation:Affirmed]\r\n",
      "T3 Symptom 224 231 fatigue \r\n",
      "T4 Medication 272 282 Citalopram [Treats:fatigue]\r\n",
      "T5 Symptom 296 313 suicidal ideation [Negation:Negated]\r\n",
      "T6 Symptom 362 378 Light-headedness [Negation:Negated]\r\n",
      "T8 Symptom 188 197 depressed \r\n",
      "T13 Medication 1042 1052 Citalopram \r\n",
      "T14 Medication 1083 1093 Lisinopril \r\n",
      "T15 Medication 1124 1131 Ferrous \r\n",
      "T16 Medication 1170 1180 Metoprolol \r\n",
      "T17 Medication 1210 1223 Acetaminophen \r\n",
      "T18 Medication 1260 1267 Aspirin \r\n",
      "T19 Medication 1298 1309 Simvastatin \r\n",
      "T7 Diagnosis 722 728 angina [Negation:Negated]\r\n",
      "T9 Symptom 734 741 dyspnea [Negation:Negated]\r\n",
      "T10 Symptom 677 686 knee pain [Negation:Negated][Experiencer:Patient]\r\n",
      "\n"
     ]
    }
   ],
   "source": [
    "doc.load_annotations_from_brat('data/test.ann')\n",
    "print(doc.toString())"
   ]
  },
  {
   "cell_type": "markdown",
   "metadata": {},
   "source": [
    "Now the document is loaded and the reference standard annotations are added.\n",
    "Let's add the processing logic.\n",
    "\n",
    "First, define target and negation keywords"
   ]
  },
  {
   "cell_type": "code",
   "execution_count": null,
   "metadata": {
    "collapsed": true
   },
   "outputs": [],
   "source": [
    "import re\n",
    "\n",
    "target_regexes = []\n",
    "regexes = ['pain',\n",
    "          'depres\\\\w+', #matches \"depres\" and one or more alphanumerics. Double slash needed inside a string\n",
    "          'suicidal\\\\s*ideation'  #\\\\s* means none or more white-space characters including new line\n",
    "          ]\n",
    "for reg in regexes:\n",
    "    target_regexes.append(re.compile(reg, re.IGNORECASE))\n",
    "    \n",
    "neg_regex = '(\\\\bno\\\\b|denies)'   # \\b matches word boundaries  #matchs \"no\", as separate word, OR \"denies\""
   ]
  },
  {
   "cell_type": "markdown",
   "metadata": {},
   "source": [
    "Second, search the document for the target keywords. \n",
    "If a target keyword is found, look at text right before the target keyword  (back 30 characters) and search for negation keyword."
   ]
  },
  {
   "cell_type": "code",
   "execution_count": null,
   "metadata": {
    "collapsed": true
   },
   "outputs": [],
   "source": [
    "ann_index=0\n",
    "for reg in target_regexes:\n",
    "    for match in reg.finditer(doc.text):\n",
    "        ann_id = 'NLP_'+ str(ann_index)\n",
    "        ann_index=ann_index+1\n",
    "        new_annotation = Annotation(start_index=int(match.start()), \n",
    "                                    end_index=int(match.end()), \n",
    "                                    type='DepressionSymptoms',\n",
    "                                    ann_id = ann_id\n",
    "                                    )\n",
    "        new_annotation.spanned_text = doc.text[new_annotation.start_index:new_annotation.end_index]\n",
    "        \n",
    "        # Check negation right before the found target up to 30 charachers before, \n",
    "        # making sure that the pre-text does not cross the text boundary and is valid\n",
    "        \n",
    "        if new_annotation.start_index - 30 > 0:\n",
    "            pre_text_start = new_annotation.start_index - 30\n",
    "        else:\n",
    "            pre_text_start = 0\n",
    "        \n",
    "        # ending index of the pre_text is the beginning of the found target    \n",
    "        pre_text_end = new_annotation.start_index    \n",
    "        \n",
    "        # substring the document text to identify the pre_text string\n",
    "        pre_text = doc.text[pre_text_start: pre_text_end]\n",
    "        \n",
    "        # We do not need to know the exact location of the negation keyword, so re.search is acceptable\n",
    "        if re.search(neg_regex, pre_text , re.IGNORECASE):\n",
    "            new_annotation.attributes[\"Negation\"] ='Negated'\n",
    "        doc.annotations.append(new_annotation)\n"
   ]
  },
  {
   "cell_type": "markdown",
   "metadata": {},
   "source": [
    "Now let's see what annotations are included in the document after processing"
   ]
  },
  {
   "cell_type": "code",
   "execution_count": null,
   "metadata": {
    "scrolled": true
   },
   "outputs": [],
   "source": [
    "print(doc.toString())"
   ]
  },
  {
   "cell_type": "markdown",
   "metadata": {},
   "source": [
    "### End of regex implementation"
   ]
  }
 ],
 "metadata": {
  "kernelspec": {
   "display_name": "Python 3",
   "language": "python",
   "name": "python3"
  },
  "language_info": {
   "codemirror_mode": {
    "name": "ipython",
    "version": 3
   },
   "file_extension": ".py",
   "mimetype": "text/x-python",
   "name": "python",
   "nbconvert_exporter": "python",
   "pygments_lexer": "ipython3",
   "version": "3.6.4"
  }
 },
 "nbformat": 4,
 "nbformat_minor": 2
}
