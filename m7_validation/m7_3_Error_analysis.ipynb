{
 "cells": [
  {
   "cell_type": "markdown",
   "metadata": {},
   "source": [
    "# Error analysis\n",
    "\n",
    "Let's implement our pipeline using the simpler regex implementation\n"
   ]
  },
  {
   "cell_type": "code",
   "execution_count": 1,
   "metadata": {},
   "outputs": [],
   "source": [
    "from pipeUtils import Annotation\n",
    "from pipeUtils import Document\n",
    "import re\n",
    "\n",
    "doc = Document()\n",
    "doc.load_document_from_file('data/test.txt')\n",
    "doc.load_annotations_from_brat('data/test.ann')\n",
    "\n",
    "target_regexes = []\n",
    "regexes = ['pain',\n",
    "          'depres\\\\w+',\n",
    "          'suicidal\\\\s*ideation'\n",
    "          ]\n",
    "for reg in regexes:\n",
    "    target_regexes.append(re.compile(reg, re.IGNORECASE))\n",
    "    \n",
    "neg_regex = '(\\\\bno\\\\b|denies)'\n",
    "\n",
    "for reg in target_regexes:\n",
    "    for match in reg.finditer(doc.text):\n",
    "        new_annotation = Annotation(start_index=int(match.start()), end_index=int(match.end()), type='DepressionSymptoms')\n",
    "        new_annotation.spanned_text = doc.text[new_annotation.start_index:new_annotation.end_index]\n",
    "        # Check negation right before the found target.\n",
    "        # Making sure that the pre_text is valid\n",
    "        if new_annotation.start_index - 30 > 0:\n",
    "            pre_text_start = new_annotation.start_index - 30\n",
    "        else:\n",
    "            pre_text_start = 0\n",
    "        pre_text = doc.text[pre_text_start: new_annotation.start_index]\n",
    "        \n",
    "        # We do not need to know the exact location of the negation keyword, so re.search is acceptable\n",
    "        if re.search(neg_regex, pre_text , re.IGNORECASE):\n",
    "            new_annotation.attributes[\"Negation\"] ='Negated'\n",
    "        doc.annotations.append(new_annotation)"
   ]
  },
  {
   "cell_type": "markdown",
   "metadata": {},
   "source": [
    "We have processed the document and can compare annotations of two types:\n",
    "\n",
    "    Symptom - is the reference standard annotation type\n",
    "    DepressionSymptoms - is the annotation type created by your process\n",
    "\n",
    "The [pipeUtils](pipeUtils_doc.html) framework has a method that allows to compare annotations of two types."
   ]
  },
  {
   "cell_type": "code",
   "execution_count": 3,
   "metadata": {},
   "outputs": [],
   "source": [
    "tp, fp, fn, tp_list, fp_list, fn_list = doc.compare_types_by_span('Symptom', 'DepressionSymptoms', False)"
   ]
  },
  {
   "cell_type": "code",
   "execution_count": 4,
   "metadata": {},
   "outputs": [
    {
     "name": "stdout",
     "output_type": "stream",
     "text": [
      "4 4 3\n"
     ]
    }
   ],
   "source": [
    "print(tp, fp, fn)"
   ]
  },
  {
   "cell_type": "markdown",
   "metadata": {},
   "source": [
    "------------\n",
    "\n",
    "tp_list is a list of True Positive pairs. We can print them side by side for comparison.\n"
   ]
  },
  {
   "cell_type": "code",
   "execution_count": 5,
   "metadata": {},
   "outputs": [
    {
     "name": "stdout",
     "output_type": "stream",
     "text": [
      "0 DepressionSymptoms 682 686 pain [Negation:Negated] || T10 Symptom 677 686 knee pain [Negation:Negated][Experiencer:Patient]\n",
      "0 DepressionSymptoms 142 152 depression  || T2 Symptom 142 161 depression symptoms [Negation:Affirmed]\n",
      "0 DepressionSymptoms 188 197 depressed  || T8 Symptom 188 197 depressed \n",
      "0 DepressionSymptoms 296 313 suicidal ideation [Negation:Negated] || T5 Symptom 296 313 suicidal ideation [Negation:Negated]\n"
     ]
    }
   ],
   "source": [
    "for a in tp_list:\n",
    "    print(a[0].toString(),'||', a[1].toString())"
   ]
  },
  {
   "cell_type": "markdown",
   "metadata": {},
   "source": [
    "----------\n",
    "**fn_list** and **fp_list** are simple lists of unmatched annotations."
   ]
  },
  {
   "cell_type": "code",
   "execution_count": 6,
   "metadata": {},
   "outputs": [
    {
     "name": "stdout",
     "output_type": "stream",
     "text": [
      "T3 Symptom 224 231 fatigue \n",
      "T6 Symptom 362 378 Light-headedness [Negation:Negated]\n",
      "T9 Symptom 734 741 dyspnea [Negation:Negated]\n",
      "0 DepressionSymptoms 638 642 pain \n",
      "0 DepressionSymptoms 55 65 depression \n",
      "0 DepressionSymptoms 80 90 Depression \n",
      "0 DepressionSymptoms 765 775 Depression \n"
     ]
    }
   ],
   "source": [
    "for a in fn_list:\n",
    "    print(a.toString())\n",
    "\n",
    "for a in fp_list:\n",
    "    print(a.toString())"
   ]
  },
  {
   "cell_type": "markdown",
   "metadata": {},
   "source": [
    "-----------\n",
    "\n",
    "Since we have **True Positive**, **False Positive**, and **False Negative** counts, we can calculate **Precision** and **Recall**."
   ]
  },
  {
   "cell_type": "code",
   "execution_count": 7,
   "metadata": {},
   "outputs": [
    {
     "name": "stdout",
     "output_type": "stream",
     "text": [
      "TP = 4 FP = 4 FN = 3\n",
      "Precision= 0.5\n",
      "Recall= 0.571\n"
     ]
    }
   ],
   "source": [
    "print('TP =',tp, 'FP =',fp, 'FN =',fn)\n",
    "\n",
    "if tp > 0 :\n",
    "    precision = tp / (tp + fp)\n",
    "    print('Precision=',precision)\n",
    "\n",
    "if tp > 0 :\n",
    "    recall = tp / (tp + fn)\n",
    "    print('Recall=',round(recall,3))"
   ]
  },
  {
   "cell_type": "markdown",
   "metadata": {
    "collapsed": true
   },
   "source": [
    "Now we can calculate **F1 score**"
   ]
  },
  {
   "cell_type": "code",
   "execution_count": null,
   "metadata": {
    "collapsed": true
   },
   "outputs": [],
   "source": []
  }
 ],
 "metadata": {
  "kernelspec": {
   "display_name": "Python 3",
   "language": "python",
   "name": "python3"
  },
  "language_info": {
   "codemirror_mode": {
    "name": "ipython",
    "version": 3
   },
   "file_extension": ".py",
   "mimetype": "text/x-python",
   "name": "python",
   "nbconvert_exporter": "python",
   "pygments_lexer": "ipython3",
   "version": "3.6.4"
  }
 },
 "nbformat": 4,
 "nbformat_minor": 2
}
