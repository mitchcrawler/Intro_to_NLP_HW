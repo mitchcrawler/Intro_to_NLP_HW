{
 "cells": [
  {
   "cell_type": "markdown",
   "metadata": {},
   "source": [
    "# Regular Expression in 5 Minutes\n",
    "\n",
    "This notebook is not a thorough regular expression tutorial. Instead, it is designed to just give you a few examples to start with.\n"
   ]
  },
  {
   "cell_type": "markdown",
   "metadata": {},
   "source": [
    "## What is it?\n",
    "\n",
    "Regular expression is a language to define string search patterns using a set of well defined syntax. This syntax is very similar across different programming languages."
   ]
  },
  {
   "cell_type": "markdown",
   "metadata": {},
   "source": [
    "## Expressions\n",
    "\n",
    "There are many patterns in python's regular expression langauge. Here, we are going to check a few.\n",
    "\n",
    "\n",
    "|Expression|Equivalent To|Description|\n",
    "|:--------:|:-----------:|-----------|\n",
    "|. |              |Any character except new line |\n",
    "|\\w|[a-zA-Z0-9_]  |Alphanumeric or underscore    |\n",
    "|\\d|[0-9]         |Numeric                       |\n",
    "|\\s|[ \\t\\n\\r\\f\\v] |Whitespace                    |\n",
    "\n",
    "\n",
    "Let's try some example to see how these patterns can be used"
   ]
  },
  {
   "cell_type": "code",
   "execution_count": null,
   "metadata": {},
   "outputs": [],
   "source": [
    "import re\n",
    "text='This is an example for BMI6115.'"
   ]
  },
  {
   "cell_type": "code",
   "execution_count": null,
   "metadata": {},
   "outputs": [],
   "source": [
    "print(re.search(r'\\d',text))\n",
    "print(re.search(r'\\w',text))\n"
   ]
  },
  {
   "cell_type": "markdown",
   "metadata": {},
   "source": [
    "There are another set of syntaxes that defines how many times that a character/pattern can repeat.\n",
    "\n",
    "| Quantifier    | Description |\n",
    "| ------------- |-------------|\n",
    "| +     | Match expression 1 or more times |\n",
    "| *     | Match expression 0 or more times |\n",
    "| {2,5} | Match expression 2 to 5 times|"
   ]
  },
  {
   "cell_type": "code",
   "execution_count": null,
   "metadata": {},
   "outputs": [],
   "source": [
    "# Let's see a few examples\n",
    "print(re.search(r'\\d+',text))\n",
    "print(re.search(r'\\w+',text))"
   ]
  },
  {
   "cell_type": "markdown",
   "metadata": {},
   "source": [
    "As was mentioned above, the repetition can be applied to patterns.\n",
    "\n",
    "For example:"
   ]
  },
  {
   "cell_type": "code",
   "execution_count": null,
   "metadata": {},
   "outputs": [],
   "source": [
    "text=\"The patient's temperature was between 98~102.6.\"\n",
    "print(re.findall(r'(\\d+(\\.\\d)*)',text))"
   ]
  },
  {
   "cell_type": "markdown",
   "metadata": {},
   "source": [
    "***Have more questions?  Review the complete RegEx tutorial from Python conference ***  https://pycon2016.regex.training/ "
   ]
  },
  {
   "cell_type": "code",
   "execution_count": null,
   "metadata": {},
   "outputs": [],
   "source": []
  }
 ],
 "metadata": {
  "kernelspec": {
   "display_name": "Python 3",
   "language": "python",
   "name": "python3"
  },
  "language_info": {
   "codemirror_mode": {
    "name": "ipython",
    "version": 3
   },
   "file_extension": ".py",
   "mimetype": "text/x-python",
   "name": "python",
   "nbconvert_exporter": "python",
   "pygments_lexer": "ipython3",
   "version": "3.6.4"
  }
 },
 "nbformat": 4,
 "nbformat_minor": 2
}
