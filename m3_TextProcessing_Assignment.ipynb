{
 "cells": [
  {
   "cell_type": "markdown",
   "metadata": {},
   "source": [
    "# BMI 6115 Module 3: Homework assignment\n"
   ]
  },
  {
   "cell_type": "markdown",
   "metadata": {},
   "source": [
    "## (Reverse) Edit Distance\n",
    "\n",
    "Calculating the [edit distance](https://en.wikipedia.org/wiki/Edit_distance) between two strings means finding how many steps you need to get from one string to the next by using either substitution, deletion, or insertion. This can be useful for a number of applications, including spell-checking (what word did the user probably mean to type?) and evaluating spoken language systems (what word might the speaker have actually said?).\n",
    "\n",
    "Finding the Minimum Edit Distance between two strings is an example of a Dynamic Programming Algorithm, and it is beyond the scope of this course (although you are encouraged to work on it if you want: here is a lecture [https://web.stanford.edu/class/cs124/lec/med.pdf] from Stanford on the subject). So, instead, we are going to do the reverse: given a string, generate strings that are `n` steps away. This will help us come up with new vocabulary terms, including possible misspellings. \n",
    "\n",
    "For example, if the string we start with is **\"eat\"**, here are some of the words we'd want to generate with an edit distance of 1:\n",
    "\n",
    "- **Substitution:** [\"aat\", \"azt\", \"eal\", ...]\n",
    "- **Deletion:** [\"at\", \"et\", \"ea\"]\n",
    "- **Insertion:** [\"beat\", \"euat\", \"east\", \"eats\"]\n",
    "\n",
    "With an edit distance of 2, we could take all of the words we generated above and then do the same operations on each of them (\"eat\" => \"aat\" => \"alt\"). \n",
    "\n",
    "Note that most of the words we generate are not actual words. A few are, and some may even be useful words. For example, \"eats\" is an inflected form of \"eat\" and could be considered the same word. But even some of the non-words could be useful. For example, if we use this method to expand our vocabulary, we may catch instances where the clinician wrote \"cardac arrest\" instead of \"cardiac arrest\". To make sure we're not adding junk to our vocabulary, we could do a simple search to make sure that the \"word\" appears in the corpus at least one or more times."
   ]
  },
  {
   "cell_type": "markdown",
   "metadata": {},
   "source": [
    "## Problem 1. \n",
    "Complete the code below for `EditDistance`. Here is a walk-through of the algorithm.\n",
    "\n",
    "`def gen_edit_words(word):`\n",
    "\n",
    "#### **Parameters**:\n",
    "- `word`: the word that we will be manipulating\n",
    "\n",
    "#### **Algorithm**:\n",
    "- Create an empty list called `gen_words`.\n",
    "\n",
    "**STEP 1: Subsitution**\n",
    "- For integer `i` in len(`word`): \n",
    "    - for each `letter` in the alphabet (a-z):\n",
    "        - Create `new_word` where `word[i]` is replaced with `letter`.\n",
    "        - Append `new_word` to `gen_words`\n",
    "\n",
    "**STEP 2: Deletion**\n",
    "- For integer `i` in len(`word`):\n",
    "    - Create `new_word` where `word[i]` is deleted\n",
    "    - Append `new_word` to `gen_words`\n",
    "\n",
    "**STEP 3: Insertion**\n",
    "- For integer `i` in len(`word`):\n",
    "    - for each `letter` in the alphabet (a-z):\n",
    "        - Create `new_word` where  `letter` is placed between `word[i]` and `word[i-1]`.\n",
    "        - Append `new_word` to `gen_words`\n",
    "            \n",
    "- Return `gen_words`\n",
    "     \n",
    "         "
   ]
  },
  {
   "cell_type": "code",
   "execution_count": null,
   "metadata": {},
   "outputs": [],
   "source": [
    "import string\n",
    "class EditDistanceGenerator():\n",
    "    def __init__(self):\n",
    "        pass\n",
    "        \n",
    "    \n",
    "    def gen_edit_words(self, word):\n",
    "        # TODO: Write this method to generate all possible words 1-away from the given word\n",
    "        # Hint: Call the other helper methods from here\n",
    "        return []\n",
    "    \n",
    "    \n",
    "    def gen_words_sub(self, word):\n",
    "        # TODO: Write this method to generate words 1-away from the given word using substitution\n",
    "        return []\n",
    "    \n",
    "    \n",
    "    def gen_words_del(self, word):\n",
    "        # TODO: Write this method to generate words 1-away from the given word using deletion\n",
    "        return []\n",
    "    \n",
    "        \n",
    "    def gen_words_insrt(self, word):\n",
    "        # TODO: Write this method to generate words 1-away from the given word using insertion\n",
    "        return []\n",
    "    "
   ]
  },
  {
   "cell_type": "code",
   "execution_count": null,
   "metadata": {},
   "outputs": [],
   "source": [
    "edit = EditDistanceGenerator()\n",
    "gen_words = edit.gen_edit_words('word')\n",
    "print(len(gen_words))\n",
    "print(gen_words)"
   ]
  },
  {
   "cell_type": "markdown",
   "metadata": {},
   "source": [
    "## Challenge Problem 2: \n",
    "1. Write a method that takes a corpus of words and a threshold, `n`, and restricts the generated edit words to words that occur at least `n` times in the corpus.\n",
    "2. Add a method `gen_edit_dist_n` that does up to `n` iterations of new words, not just 1. (ie., 'eat' => 'elt' => 'elty')"
   ]
  },
  {
   "cell_type": "code",
   "execution_count": null,
   "metadata": {},
   "outputs": [],
   "source": []
  }
 ],
 "metadata": {
  "kernelspec": {
   "display_name": "Python 3",
   "language": "python",
   "name": "python3"
  },
  "language_info": {
   "codemirror_mode": {
    "name": "ipython",
    "version": 3
   },
   "file_extension": ".py",
   "mimetype": "text/x-python",
   "name": "python",
   "nbconvert_exporter": "python",
   "pygments_lexer": "ipython3",
   "version": "3.6.4"
  }
 },
 "nbformat": 4,
 "nbformat_minor": 2
}
