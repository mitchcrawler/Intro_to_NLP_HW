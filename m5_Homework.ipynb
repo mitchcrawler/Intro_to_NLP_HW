{
 "cells": [
  {
   "cell_type": "markdown",
   "metadata": {},
   "source": [
    "## Exercise 1:\n",
    "In class we have gone through a rule-based NLP pipeline by executing components one by one. Typically, we create a pipeline as a single class that links all modules.\n",
    "\n",
    "In this exercise, you will need to write a pipeline class. Let's call it **MyPipe**, it can be initiated through taking a set of rules. After that, it can be called through a **process** function, which can take a document text, and output a set of values: \n",
    "- document level classification\n",
    "- context document, which is an object of type pyConTextGraph.ConTextDocument;\n",
    "- annotations (in dataframe format);\n",
    "- relations (in dataframe format)."
   ]
  },
  {
   "cell_type": "code",
   "execution_count": 1,
   "metadata": {},
   "outputs": [],
   "source": [
    "# state your import here\n",
    "import re\n",
    "from PyRuSH.RuSH import RuSH\n",
    "from pyConTextNLP import pyConTextGraph\n",
    "from pyConTextNLP.utils import get_document_markups\n",
    "\n",
    "\n",
    "from DocumentClassifier import FeatureInferencer\n",
    "from DocumentClassifier import DocumentInferencer\n",
    "from nlp_pneumonia_utils import markup_sentence\n",
    "from itemData import get_item_data\n",
    "from visual import convertMarkups2DF"
   ]
  },
  {
   "cell_type": "code",
   "execution_count": 12,
   "metadata": {},
   "outputs": [],
   "source": [
    "# begin to define MyPipe class\n",
    "class MyPipe:\n",
    "    def __init__(self, sentence_rules, target_rules, context_rules, feature_inference_rule, document_inference_rule):\n",
    "        # initiate necessary components here\n",
    "        self.sentence_segmenter = RuSH(sentence_rules)\n",
    "        self.feature_inferencer=FeatureInferencer(feature_inference_rule)\n",
    "        self.document_inferencer = DocumentInferencer(document_inference_rule)\n",
    "        self.targets=get_item_data(target_rules)\n",
    "        self.modifiers=get_item_data(context_rules)\n",
    "    \n",
    "    def process(self, doc_text):        \n",
    "        #process your input doc_text, return the required results\n",
    "        sentences = self.sentence_segmenter.segToSentenceSpans(doc_text)\n",
    "        context_doc = pyConTextGraph.ConTextDocument()\n",
    "        \n",
    "        for sentence in sentences:\n",
    "            sentence_text=doc_text[sentence.begin:sentence.end].lower()\n",
    "            # Process every sentence by adding markup\n",
    "            m = markup_sentence(sentence_text, modifiers=self.modifiers, targets=self.targets)\n",
    "            context_doc.addMarkup(m)\n",
    "            context_doc.getSectionMarkups()\n",
    "            #print(m)\n",
    "            \n",
    "        markups = get_document_markups(context_doc)    \n",
    "        annotations, relations, doc_txt = convertMarkups2DF(markups) \n",
    "        \n",
    "        inferenced_types = self.feature_inferencer.process(annotations, relations)\n",
    "        doc_class = self.document_inferencer.process(inferenced_types)\n",
    "        \n",
    "        \n",
    "         \n",
    "        return doc_class, context_doc, annotations, relations"
   ]
  },
  {
   "cell_type": "markdown",
   "metadata": {},
   "source": [
    "Once your pipeline class is defined, you can use it multiple times for different set of rules."
   ]
  },
  {
   "cell_type": "markdown",
   "metadata": {},
   "source": [
    "## Exercise 2:\n",
    "Now you can select documents from the MIMIC database (limit to 5 documents that contain your target concept), write a script to process all of them, and output a dictionary which uses document name as keys and document level classification as values."
   ]
  },
  {
   "cell_type": "code",
   "execution_count": 13,
   "metadata": {},
   "outputs": [
    {
     "name": "stdout",
     "output_type": "stream",
     "text": [
      "Enter MySQL passwd for jovyan········\n"
     ]
    }
   ],
   "source": [
    "import pymysql\n",
    "import pandas as pd\n",
    "import getpass\n",
    "conn = pymysql.connect(host=\"mysql\",\n",
    "                       port=3306,user=\"jovyan\",\n",
    "                       passwd=getpass.getpass(\"Enter MySQL passwd for jovyan\"),db='mimic2')"
   ]
  },
  {
   "cell_type": "code",
   "execution_count": 14,
   "metadata": {},
   "outputs": [
    {
     "data": {
      "text/html": [
       "<div>\n",
       "<table border=\"1\" class=\"dataframe\">\n",
       "  <thead>\n",
       "    <tr style=\"text-align: right;\">\n",
       "      <th></th>\n",
       "      <th>subject_id</th>\n",
       "      <th>text</th>\n",
       "    </tr>\n",
       "  </thead>\n",
       "  <tbody>\n",
       "    <tr>\n",
       "      <th>0</th>\n",
       "      <td>7440</td>\n",
       "      <td>\\n\\n\\n     DATE: [**3456-3-5**] 4:06 PM\\n     ...</td>\n",
       "    </tr>\n",
       "    <tr>\n",
       "      <th>1</th>\n",
       "      <td>27231</td>\n",
       "      <td>\\n\\n\\n     DATE: [**2887-8-22**] 1:42 AM\\n    ...</td>\n",
       "    </tr>\n",
       "    <tr>\n",
       "      <th>2</th>\n",
       "      <td>1604</td>\n",
       "      <td>\\n\\n\\n     DATE: [**2883-6-15**] 12:54 PM\\n   ...</td>\n",
       "    </tr>\n",
       "    <tr>\n",
       "      <th>3</th>\n",
       "      <td>9969</td>\n",
       "      <td>\\n\\n\\n     DATE: [**2926-7-17**] 11:38 PM\\n   ...</td>\n",
       "    </tr>\n",
       "    <tr>\n",
       "      <th>4</th>\n",
       "      <td>21857</td>\n",
       "      <td>\\ntrach, fever\\nsicu npn (in ccu)\\no- t max 10...</td>\n",
       "    </tr>\n",
       "  </tbody>\n",
       "</table>\n",
       "</div>"
      ],
      "text/plain": [
       "   subject_id                                               text\n",
       "0        7440  \\n\\n\\n     DATE: [**3456-3-5**] 4:06 PM\\n     ...\n",
       "1       27231  \\n\\n\\n     DATE: [**2887-8-22**] 1:42 AM\\n    ...\n",
       "2        1604  \\n\\n\\n     DATE: [**2883-6-15**] 12:54 PM\\n   ...\n",
       "3        9969  \\n\\n\\n     DATE: [**2926-7-17**] 11:38 PM\\n   ...\n",
       "4       21857  \\ntrach, fever\\nsicu npn (in ccu)\\no- t max 10..."
      ]
     },
     "execution_count": 14,
     "metadata": {},
     "output_type": "execute_result"
    }
   ],
   "source": [
    "doc_text = pd.read_sql(\"SELECT subject_id, text from noteevents   where text like '% fever %' order by rand() limit  5\",conn)\n",
    "doc_text"
   ]
  },
  {
   "cell_type": "code",
   "execution_count": 15,
   "metadata": {},
   "outputs": [
    {
     "name": "stdout",
     "output_type": "stream",
     "text": [
      "0 7440 \n",
      "\n",
      "\n",
      "     DATE: [**3456-3-5**] 4:06 PM\n",
      "     CT CHEST W/CONTRAST; CT ABDOMEN W/CONTRAST                      Clip # [**Clip Number (Radiology) 14506**]\n",
      "     CT PELVIS W/CONTRAST; CT 150CC NONIONIC CONTRAST\n",
      "     Reason: Please eval for empyema, abscess, loculated infections. Note\n",
      "     Admitting Diagnosis: PNEUMONIA;TELEMETRY\n",
      "     ______________________________________________________________________________\n",
      "     UNDERLYING MEDICAL CONDITION:\n",
      "      74 year old man with ESRD on HD, dementia with presumed aspiration pneumonia \n",
      "      with RML and RLL collapse and mental status changes, now with new and \n",
      "      persistently elevated WBC.\n",
      "     REASON FOR THIS EXAMINATION:\n",
      "      Please eval for empyema, abscess, loculated infections. Note that pt has ESRD \n",
      "      but is on HD and per renal fellow he may receive contrast.\n",
      "     No contraindications for IV contrast\n",
      "     ______________________________________________________________________________\n",
      "                                     FINAL REPORT\n",
      "     CT TORSO WITHOUT CONTRAST\n",
      "     \n",
      "     INDICATION: Fever and aspiration pneumonia. Evaluate for abscess.\n",
      "     \n",
      "     TECHNIQUE: CT imaging of the chest, abdomen, and pelvis performed without IV\n",
      "     contrast.  No contrast was administered due to the lack of IV access.\n",
      "     \n",
      "     CT CHEST W/O CONTRAST:  Marked atherosclerotic calcification is present in the\n",
      "     abdominal aorta and coronary arteries.  A right sided PICC line terminates at\n",
      "     the SVC/right atrial junction.  There is no evidence of pathologic axillary or\n",
      "     hilar lymph node enlargement.  There are several prominent mediastinal lymph\n",
      "     nodes.  There is evidence of a parenchymal consolidation with air bronchograms\n",
      "     within both lung bases (right greater than left).  There is a tiny right sided\n",
      "     pleural effusion.  The remainder of the lungs are clear with no evidence of\n",
      "     pulmonary nodules or pneumothorax.\n",
      "     \n",
      "     CT ABDOMEN W/O CONTRAST: Visualization of the liver is obscured by streak\n",
      "     artifact from the patient's overlying arm. A G tube is in place. The spleen,\n",
      "     pancreas, adrenal glands, and kidneys are unremarkable on this study limited\n",
      "     by the lack of IV contrast.  There is no evidence of dilatation or wall\n",
      "     thickening within large or small bowel.  Oral contrast reaches the transverse\n",
      "     colon indicating no evidence of obstruction.  There is evidence of extensive\n",
      "     calcification within the abdominal aorta and its visceral branches.  The\n",
      "     abdominal aorta is of normal caliber.  There is no free air, free fluid, or\n",
      "     definite intraabdominal abscess seen.\n",
      "     \n",
      "     CT PELVIS W/O CONTRAST: The urinary bladder, prostate, and rectum are within\n",
      "     normal limits.  Bone windows show no suspicious lytic or sclerotic lesions.\n",
      "     \n",
      "     IMPRESSION:\n",
      "     1) Pulmonary parenchymal consolidation within both lower lobes (right greater\n",
      "     than left).\n",
      "     \n",
      "     2) No evidence of acute intraabdominal pathology on this study limited by the\n",
      "     lack of IV contrast and by suboptimal patient positioning.\n",
      "                                                                 (Over)\n",
      "\n",
      "     DATE: [**3456-3-5**] 4:06 PM\n",
      "     CT CHEST W/CONTRAST; CT ABDOMEN W/CONTRAST                      Clip # [**Clip Number (Radiology) 14506**]\n",
      "     CT PELVIS W/CONTRAST; CT 150CC NONIONIC CONTRAST\n",
      "     Reason: Please eval for empyema, abscess, loculated infections. Note\n",
      "     Admitting Diagnosis: PNEUMONIA;TELEMETRY\n",
      "     ______________________________________________________________________________\n",
      "                                     FINAL REPORT\n",
      "     (Cont)\n",
      "\n",
      "\n",
      "1 27231 \n",
      "\n",
      "\n",
      "     DATE: [**2887-8-22**] 1:42 AM\n",
      "     CHEST (PORTABLE AP)                                             Clip # [**Clip Number (Radiology) 14764**]\n",
      "     Reason: fever spike overnight, assess interval change               \n",
      "     Admitting Diagnosis: SMALL BOWEL OBSTRUCTION\n",
      "     ______________________________________________________________________________\n",
      "     UNDERLYING MEDICAL CONDITION:\n",
      "           65 y/o F s/p total gastrectomy w/ [**Last Name (un) **] E/J and J tube([**7-14**]) p/w SBO now s/p \n",
      "        CT    placement now on water seal ~3 hours s/p chest tube removal\n",
      "     REASON FOR THIS EXAMINATION:\n",
      "      fever spike overnight, assess interval change                                   \n",
      "     ______________________________________________________________________________\n",
      "                                     FINAL REPORT\n",
      "     AP CHEST 1:41 A.M. [**8-22**]\n",
      "     \n",
      "     HISTORY:  Gastrectomy.  Chest tube to water seal.\n",
      "     \n",
      "     IMPRESSION:  AP chest compared to [**8-18**] through 26:\n",
      "     \n",
      "     There has been no appreciable change since at least [**8-18**] in widespread\n",
      "     pulmonary opacification consisting of areas of consolidation, some quite\n",
      "     nodular, and intervening interstitial abnormality.  This is probably a\n",
      "     combination of edema, not necessarily cardiogenic and multifocal pneumonia. \n",
      "     Small right pleural effusion is stable.  Heart size is mildly enlarged but\n",
      "     unchanged.  Tracheostomy tube, right internal jugular line are in standard\n",
      "     placements and a drainage and feeding tube pass through the esophagus into the\n",
      "     stomach and out of view.  No pneumothorax.\n",
      "                                                                           \n",
      "\n",
      "\n",
      "2 1604 \n",
      "\n",
      "\n",
      "     DATE: [**2883-6-15**] 12:54 PM\n",
      "     CHEST (PA & LAT)                                                Clip # [**Clip Number (Radiology) 6667**]\n",
      "     Reason: Assess change from prior studies                            \n",
      "     Admitting Diagnosis: HYPOXIA; TRACHEALMALACEA\\BRONCHOSCOPY RIGID;STENT REMOVAL\n",
      "     ______________________________________________________________________________\n",
      "     UNDERLYING MEDICAL CONDITION:\n",
      "        78 year old man s/p tracheoplasty with mild fever and continued coarse breath \n",
      "       sounds                                           \n",
      "     REASON FOR THIS EXAMINATION:\n",
      "      Assess change from prior studies                                                \n",
      "     ______________________________________________________________________________\n",
      "                                     FINAL REPORT\n",
      "     CLINICAL INDICATION:  A 78-year-old male status post tracheoplasty with mild\n",
      "     fever and coarse breath sounds.\n",
      "     \n",
      "     TECHNIQUE:  PA and lateral chest.\n",
      "     \n",
      "     COMPARISON:  [**2883-6-13**].\n",
      "     \n",
      "     FINDINGS:  Two right-sided chest tubes are again noted in stable, satisfactory\n",
      "     position.  There is a persistent, partially loculated right pleural effusion\n",
      "     with a small collection of air near the chest tube entry sites, compatible\n",
      "     with a hydropneumothorax.  The left lung appears grossly clear.  The cardiac\n",
      "     and mediastinal contours are stable.\n",
      "     \n",
      "     IMPRESSION: Right loculated hydropneumothorax.\n",
      "\n",
      "\n",
      "3 9969 \n",
      "\n",
      "\n",
      "     DATE: [**2926-7-17**] 11:38 PM\n",
      "     CHEST (PORTABLE AP)                                             Clip # [**Clip Number (Radiology) 5724**]\n",
      "     Reason: ? PNA                                                       \n",
      "     Admitting Diagnosis: INTRAPARENCHYMAL BLEED\n",
      "     ______________________________________________________________________________\n",
      "     UNDERLYING MEDICAL CONDITION:\n",
      "      64 year old man with anaplastic astrocytoma, on decadron; now developing fever  \n",
      "     REASON FOR THIS EXAMINATION:\n",
      "      ? PNA                                                                           \n",
      "     ______________________________________________________________________________\n",
      "                                     FINAL REPORT\n",
      "     REASON FOR EXAMINATION:  Fever in a patient with known anaplastic astrocytoma.\n",
      "     \n",
      "     Portably AP chest radiograph has been reviewed.\n",
      "     \n",
      "     The heart size is normal.  Mediastinum has normal contour and width.\n",
      "     \n",
      "     The left hemithorax is slightly more opacified in comparison to the right one\n",
      "     most probably due to layering small amount of pleural effusion.  There is no\n",
      "     evidence of congestive heart failure.  There is no evidence of focal\n",
      "     infiltrate.\n",
      "     \n",
      "     IMPRESSION:  Mild left pulmonary effusion.  No evidence of pneumonia.\n",
      "\n",
      "\n",
      "4 21857 \n",
      "trach, fever\n",
      "sicu npn (in ccu)\n",
      "o- t max 101.2, down to 100.4po. tylenol given per ngt x3. cont. on abx, to start ceftazidine. \n",
      "cv- hr 120-130s in am af, on dopamine. bp 80-90s. changed to neo with hr down to 90s (nsr) and bp up to 120s/, also re'ing prbcs. neo then changed to levo but bp rising and levo quickly weaned off. hr 80s sr, bp 95-110s later in pm. aline inserted in r femoral by mds. mg 1.2 in am, re'd 2 more amps iv x1. Ionized ca 1.19. hct 26, re'd 1 unit prbcs (second unit held due to fever 101.2). hct 27.4 this pm. to receive 2nd unit this eve.  \n",
      "resp- cont. on psv 12, with peep 7.5 at 40%, tv 400s, rr 28-32. resp sl. labored earlier day, better this pm. u/o low in am, up to 35-70cc/hr this pm. sx'd for thick tan secretions via trach. trach care done, dsg changed x2 for small tan drainage around trach. sats 99-100. abgs done-  86,41,7.35. \n",
      "gi- abd firm, distended in am, no b. sounds heard, later in day abd soft/distended with b. sounds. ngt to lis with 700cc out in am, brn (guiac pos) to bile color, later in day, less drainage- lt green/brn\n",
      " color. tolerated clamped pedi tube for 1hr after tylenol given. to ct for abd ct, results pnd. tol ct well. \n",
      "ms- awake and alert, responsive, slow to respond at time. weak, moving arms. \n",
      "skin- weaping areas from r arm, serous. also open area on coccyx, covered with duoderm. body with generalized edema. repos side to side to back with skin/oral care q2-3hrs. \n",
      "social- fx in, supportive to pt. \n",
      "\n",
      "\n"
     ]
    }
   ],
   "source": [
    "for index, row in doc_text.iterrows():\n",
    "    print(index, row[0], row[1])"
   ]
  },
  {
   "cell_type": "code",
   "execution_count": 16,
   "metadata": {},
   "outputs": [],
   "source": [
    "# configure your rules \n",
    "# because there are too many sentence segmentation rules, let's read them from an external file\n",
    "sentence_rules='KB/rush_rules.tsv'\n",
    "# you can point target_rules to a file path instead, if there are many rules\n",
    "target_rules='''\n",
    "Comments: ''\n",
    "Direction: ''\n",
    "Lex: fever\n",
    "Regex: ''\n",
    "Type: FEVER\n",
    "---\n",
    "Comments: ''\n",
    "Direction: ''\n",
    "Lex: high temperature\n",
    "Regex: '1\\d\\d\\.\\d F'\n",
    "Type: FEVER'''\n",
    "# context rules are often lengthy, you can point context_rules to an external rule files instead\n",
    "context_rules='''Comments: ''\n",
    "Direction: forward\n",
    "Lex: 'no'\n",
    "Regex: ''\n",
    "Type: DEFINITE_NEGATED_EXISTENCE\n",
    "---\n",
    "Comments: ''\n",
    "Direction: forward\n",
    "Lex: 'denies'\n",
    "Regex: ''\n",
    "Type: DEFINITE_NEGATED_EXISTENCE\n",
    "'''\n",
    "# define the feature inference rule\n",
    "feature_inference_rule='''\n",
    "#Conclusion type, Evidence type, Modifier values associated with the evidence\n",
    "NEGATED_CONCEPT,FEVER,DEFINITE_NEGATED_EXISTENCE\n",
    "'''\n",
    "# define the document inference rule\n",
    "document_inference_rule='''\n",
    "#Conclusion Type at document level, Evidence type at mention level\n",
    "FEVER_DOC,FEVER\n",
    "        \n",
    "#Default document type\n",
    "NO_FEVER\n",
    "'''"
   ]
  },
  {
   "cell_type": "code",
   "execution_count": 17,
   "metadata": {},
   "outputs": [],
   "source": [
    "#initiate an instance of MyPipe\n",
    "myPipe=MyPipe(sentence_rules, target_rules, context_rules, feature_inference_rule, document_inference_rule)"
   ]
  },
  {
   "cell_type": "code",
   "execution_count": 35,
   "metadata": {},
   "outputs": [],
   "source": [
    "# write you code here, fill the results by processing each document through MyPipe\n",
    "results=dict()  # this dictionary will contain document names as keys and a document-level classification as values.\n",
    "for index, row in doc_text.iterrows():\n",
    "    row[1].replace(\"\\n\", \"\")\n",
    "    results[index] = myPipe.process(row[1])"
   ]
  },
  {
   "cell_type": "code",
   "execution_count": 37,
   "metadata": {},
   "outputs": [
    {
     "name": "stdout",
     "output_type": "stream",
     "text": [
      "('fever_doc', __________________________________________\n",
      ",   markup_id vis_category  start   end    txt   type\n",
      "0        T0       Target    8.0  13.0  fever  fever\n",
      "1        T1       Target   83.0  88.0  fever  fever, Empty DataFrame\n",
      "Columns: [relation_id, type, arg1_cate, arg1_id, arg2_cate, arg2_id]\n",
      "Index: [])\n"
     ]
    }
   ],
   "source": [
    "print(results[1])"
   ]
  },
  {
   "cell_type": "markdown",
   "metadata": {},
   "source": [
    "## Exercise 3:\n",
    "\n",
    "Now you get the results, but how can you be sure if they are correct? Let's dig a little deeper to visualize them. \n",
    "\n",
    "Hint: **view_pycontext_output** can take in a list of ConTextDocuments and visualize them.\n"
   ]
  },
  {
   "cell_type": "code",
   "execution_count": 28,
   "metadata": {},
   "outputs": [],
   "source": [
    "from visual import view_pycontext_output\n",
    "from visual import Vis"
   ]
  },
  {
   "cell_type": "code",
   "execution_count": 42,
   "metadata": {},
   "outputs": [],
   "source": [
    "#get the context documents that you created in Exercise 2.\n",
    "var = results[2]\n",
    "var1 = var[1]\n",
    "context_docs=dict()\n"
   ]
  },
  {
   "cell_type": "code",
   "execution_count": 41,
   "metadata": {
    "scrolled": false
   },
   "outputs": [
    {
     "data": {
      "text/html": [
       "\n",
       "\t\t\t      <iframe src = \"tmp/default.html\" frameborder=\"0\" width = \"850\" height = \"190\">\n",
       "\t\t\t         Sorry your browser does not support inline frames.\n",
       "\t\t\t      </iframe>"
      ],
      "text/plain": [
       "<IPython.core.display.HTML object>"
      ]
     },
     "metadata": {},
     "output_type": "display_data"
    }
   ],
   "source": [
    "#visualize all documents\n",
    "view_pycontext_output(var1)"
   ]
  },
  {
   "cell_type": "markdown",
   "metadata": {},
   "source": [
    "Change the file name to contain your UNID."
   ]
  },
  {
   "cell_type": "code",
   "execution_count": 25,
   "metadata": {},
   "outputs": [
    {
     "name": "stdout",
     "output_type": "stream",
     "text": [
      "No documents to view.\n"
     ]
    }
   ],
   "source": [
    "view_pycontext_output(context_docs, Vis(file_name=\"u0420717.html\"))"
   ]
  },
  {
   "cell_type": "markdown",
   "metadata": {},
   "source": [
    "***Please make a screenshot of the visualization file and submit it as homework assignment.***"
   ]
  }
 ],
 "metadata": {
  "kernelspec": {
   "display_name": "Python 3",
   "language": "python",
   "name": "python3"
  },
  "language_info": {
   "codemirror_mode": {
    "name": "ipython",
    "version": 3
   },
   "file_extension": ".py",
   "mimetype": "text/x-python",
   "name": "python",
   "nbconvert_exporter": "python",
   "pygments_lexer": "ipython3",
   "version": "3.6.4"
  }
 },
 "nbformat": 4,
 "nbformat_minor": 2
}
